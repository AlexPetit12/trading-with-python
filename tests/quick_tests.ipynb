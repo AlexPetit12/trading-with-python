{
 "cells": [
  {
   "cell_type": "markdown",
   "metadata": {},
   "source": [
    "# Quick tests notebook\n",
    "\n",
    "This notebook quickly runs several functions from TWP toolbox.\n",
    "These should be also automatically tested with [pytest](https://docs.pytest.org)\n",
    "\n",
    "For organizing test files see [test layout](https://docs.pytest.org/en/latest/goodpractices.html#choosing-a-test-layout-import-rules)"
   ]
  },
  {
   "cell_type": "code",
   "execution_count": null,
   "metadata": {
    "collapsed": true
   },
   "outputs": [],
   "source": []
  }
 ],
 "metadata": {
  "kernelspec": {
   "display_name": "Python 3",
   "language": "python",
   "name": "python3"
  },
  "language_info": {
   "codemirror_mode": {
    "name": "ipython",
    "version": 3
   },
   "file_extension": ".py",
   "mimetype": "text/x-python",
   "name": "python",
   "nbconvert_exporter": "python",
   "pygments_lexer": "ipython3",
   "version": "3.6.2"
  }
 },
 "nbformat": 4,
 "nbformat_minor": 2
}
